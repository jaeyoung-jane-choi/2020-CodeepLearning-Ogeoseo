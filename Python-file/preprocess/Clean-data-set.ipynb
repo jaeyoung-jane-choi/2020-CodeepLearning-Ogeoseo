{
 "cells": [
  {
   "cell_type": "code",
   "execution_count": 3,
   "metadata": {},
   "outputs": [
    {
     "name": "stdout",
     "output_type": "stream",
     "text": [
      "/Users/janechoi/Desktop/2020-CO-DEEP/org_data\n"
     ]
    },
    {
     "data": {
      "text/plain": [
       "<Figure size 1440x360 with 0 Axes>"
      ]
     },
     "metadata": {},
     "output_type": "display_data"
    }
   ],
   "source": [
    "#basic libraries \n",
    "\n",
    "import pandas as pd \n",
    "import numpy as np\n",
    "\n",
    "\n",
    "import seaborn as sns\n",
    "sns.set_palette(\"colorblind\")\n",
    "from matplotlib import pyplot as plt\n",
    "%matplotlib inline\n",
    "fig = plt.figure(figsize=(20,5))\n",
    "\n",
    "\n",
    "import os\n",
    "import datetime\n",
    "import warnings\n",
    "warnings.filterwarnings(\"ignore\")\n",
    "\n",
    "os.chdir(\"/Users/janechoi/Desktop/2020-CO-DEEP/org_data\")\n",
    "\n",
    "\n",
    "print(os.getcwd())\n",
    "\n"
   ]
  },
  {
   "cell_type": "code",
   "execution_count": 11,
   "metadata": {},
   "outputs": [],
   "source": [
    "total = pd.read_csv('tot_1519.csv')\n",
    "total.shape #(706943, 24)\n",
    "total.head()\n",
    "total.columns"
   ]
  },
  {
   "cell_type": "code",
   "execution_count": 18,
   "metadata": {},
   "outputs": [
    {
     "data": {
      "text/plain": [
       "경영학과       40995\n",
       "경제학과       32520\n",
       "전자전기공학부    25560\n",
       "기계공학부      22910\n",
       "국어국문학과     20104\n",
       "영어영문학과     15939\n",
       "사학과        15494\n",
       "신소재공학부     13511\n",
       "글로벌경제학과    13397\n",
       "글로벌리더학부    13362\n",
       "Name: 대출자 소속, dtype: int64"
      ]
     },
     "execution_count": 18,
     "metadata": {},
     "output_type": "execute_result"
    }
   ],
   "source": [
    "total['대출자 소속'].value_counts()[:10]"
   ]
  },
  {
   "cell_type": "code",
   "execution_count": 30,
   "metadata": {},
   "outputs": [],
   "source": [
    "total.rename(columns = {'대출분관':'borrow_loc', \n",
    "                        '등록번호': 'dungrok_num',\n",
    "                        '학번 난수처리' : 'student_id',\n",
    "                        '대출자신분': 'age',\n",
    "                        '소장분관' : 'book_loc',\n",
    "                        '소장서고' : 'book_loc_2',\n",
    "                        '서명' : 'title',\n",
    "                        '청구기호' : 'chungu_num',\n",
    "                        '대출처리일자': 'borrow_date_time', \n",
    "                        '대출일자' : 'borrow_date',\n",
    "                        '반납예정일자' : 'return_date',\n",
    "                        '반납일자' : 'real_return_date',\n",
    "                        '반납처리일자' :'real_return_date_2', \n",
    "                        '대출상태' : 'borrow_state',\n",
    "                        '대출유형' : 'borrow_type' ,\n",
    "                        '반납처리수단' : 'return_method', \n",
    "                        '반납유형' : 'return_type',\n",
    "                        '서지번호' :'seoji_num' ,\n",
    "                        '반납유형주기':'return_type_cycle', \n",
    "                        '연체일': 'late_day',\n",
    "                        '예약수': 'reserve_amount',\n",
    "                        '딸림주기': 'ddalim_cycle' ,\n",
    "                        '대출처리수단': 'borrow_method' ,\n",
    "                        '대출자 소속': 'major'\n",
    "                        \n",
    "                        \n",
    "                       }, inplace=True)"
   ]
  },
  {
   "cell_type": "code",
   "execution_count": 37,
   "metadata": {},
   "outputs": [
    {
     "data": {
      "text/plain": [
       "2책(39 p. ; 26 cm, 55 p. ; 15 cm), 전자 광디스크(DVD) 1매    2\n",
       "전자 광디스크 (CD-ROM) 1매                                  2\n",
       "카세트 테이프 2개. +2 책.                                    1\n",
       "지도 1매                                                1\n",
       "Name: ddalim_cycle, dtype: int64"
      ]
     },
     "execution_count": 37,
     "metadata": {},
     "output_type": "execute_result"
    }
   ],
   "source": [
    "total.dtypes\n",
    "total['ddalim_cycle'].value_counts() #NA 다수 -> 버리기 "
   ]
  },
  {
   "cell_type": "code",
   "execution_count": 40,
   "metadata": {},
   "outputs": [
    {
     "data": {
      "text/plain": [
       "0.325783    941\n",
       "0.567746    697\n",
       "0.730923    690\n",
       "0.853559    638\n",
       "0.610215    594\n",
       "           ... \n",
       "0.602490      1\n",
       "0.509063      1\n",
       "0.980730      1\n",
       "0.863179      1\n",
       "0.362892      1\n",
       "Name: student_id, Length: 34742, dtype: int64"
      ]
     },
     "execution_count": 40,
     "metadata": {},
     "output_type": "execute_result"
    }
   ],
   "source": [
    "total['student_id'].value_counts()"
   ]
  },
  {
   "cell_type": "code",
   "execution_count": 52,
   "metadata": {},
   "outputs": [],
   "source": [
    "mr = total[(total['major']== '경영학과') |( total['major'] == '경제학과')]\n",
    "yj = total[(total['major']== '전자전기공학부') |( total['major'] == '기계공학부')]\n",
    "mr.shape #(73515, 24)\n",
    "yj.shape #(48470, 24)\n",
    "# mr.head()\n",
    "\n",
    "mr.to_csv('mr.csv', index = False)\n",
    "yj.to_csv('yj.csv', index =False)"
   ]
  },
  {
   "cell_type": "code",
   "execution_count": 55,
   "metadata": {},
   "outputs": [
    {
     "data": {
      "text/plain": [
       "(73515, 24)"
      ]
     },
     "execution_count": 55,
     "metadata": {},
     "output_type": "execute_result"
    }
   ],
   "source": [
    "m = pd.read_csv('mr.csv')\n",
    "m.shape"
   ]
  }
 ],
 "metadata": {
  "kernelspec": {
   "display_name": "Python 3",
   "language": "python",
   "name": "python3"
  },
  "language_info": {
   "codemirror_mode": {
    "name": "ipython",
    "version": 3
   },
   "file_extension": ".py",
   "mimetype": "text/x-python",
   "name": "python",
   "nbconvert_exporter": "python",
   "pygments_lexer": "ipython3",
   "version": "3.7.6"
  }
 },
 "nbformat": 4,
 "nbformat_minor": 4
}
